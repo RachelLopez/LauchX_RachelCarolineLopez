{
 "cells": [
  {
   "cell_type": "markdown",
   "metadata": {},
   "source": [
    "#Declaración de sentencias \"if, else, elif\"\n",
    "\n",
    "#Operadores \"and y or\""
   ]
  },
  {
   "cell_type": "markdown",
   "metadata": {},
   "source": [
    "1. Iguales: a==b\n",
    "2. No es igual: a!=b\n",
    "3. Menos que: a<b\n",
    "4. Menor o igual que: a<= b\n",
    "5. Mayor que: a > b\n",
    "6. Mayor o igual que: a >= b"
   ]
  },
  {
   "cell_type": "markdown",
   "metadata": {},
   "source": [
    "#Tip de practica 1: Intenta ejecutarlo en una notebook"
   ]
  },
  {
   "cell_type": "code",
   "execution_count": 22,
   "metadata": {},
   "outputs": [],
   "source": [
    "a = 97\n",
    "b = 55\n",
    "if a < b:\n",
    "    print(b)"
   ]
  },
  {
   "cell_type": "code",
   "execution_count": 30,
   "metadata": {},
   "outputs": [
    {
     "name": "stdout",
     "output_type": "stream",
     "text": [
      "1\n"
     ]
    }
   ],
   "source": [
    "x = 1\n",
    "y = 6\n",
    "if x <= y:\n",
    "    print (x)"
   ]
  },
  {
   "cell_type": "markdown",
   "metadata": {},
   "source": [
    "#Escribir declaraciones \"if\""
   ]
  },
  {
   "cell_type": "code",
   "execution_count": 32,
   "metadata": {},
   "outputs": [
    {
     "ename": "IndentationError",
     "evalue": "expected an indented block after 'if' statement on line 1 (3866026878.py, line 1)",
     "output_type": "error",
     "traceback": [
      "\u001b[1;36m  Input \u001b[1;32mIn [32]\u001b[1;36m\u001b[0m\n\u001b[1;33m    if expresion_de_prueba: #instrcciones a ejecutar\u001b[0m\n\u001b[1;37m                                                     ^\u001b[0m\n\u001b[1;31mIndentationError\u001b[0m\u001b[1;31m:\u001b[0m expected an indented block after 'if' statement on line 1\n"
     ]
    }
   ],
   "source": [
    "if expresion_de_prueba: #instrcciones a ejecutar "
   ]
  },
  {
   "cell_type": "markdown",
   "metadata": {},
   "source": [
    "#Tip de Practica 2"
   ]
  },
  {
   "cell_type": "code",
   "execution_count": 33,
   "metadata": {},
   "outputs": [
    {
     "name": "stdout",
     "output_type": "stream",
     "text": [
      "93\n"
     ]
    }
   ],
   "source": [
    "a = 93 #asignacion de valor\n",
    "b = 27 #asignacion de valor\n",
    "if a >= b: #es mayor o igual a b\n",
    "    print(a) #muestra el valor "
   ]
  },
  {
   "cell_type": "markdown",
   "metadata": {},
   "source": [
    "#Tips de practica 1 y 2"
   ]
  },
  {
   "cell_type": "code",
   "execution_count": 1,
   "metadata": {},
   "outputs": [
    {
     "name": "stdout",
     "output_type": "stream",
     "text": [
      "44\n"
     ]
    }
   ],
   "source": [
    "a = 24\n",
    "b = 44\n",
    "if a <= 0:\n",
    "    print(a)\n",
    "print (b)"
   ]
  },
  {
   "cell_type": "markdown",
   "metadata": {},
   "source": [
    "#Declaraciones else y elif"
   ]
  },
  {
   "cell_type": "code",
   "execution_count": null,
   "metadata": {},
   "outputs": [],
   "source": [
    "a = 93 \n",
    "b = 27 \n",
    "if a >=b: #no es mayor o igual que b\n",
    "    print(a)"
   ]
  },
  {
   "cell_type": "code",
   "execution_count": 2,
   "metadata": {},
   "outputs": [
    {
     "name": "stdout",
     "output_type": "stream",
     "text": [
      "1558\n"
     ]
    }
   ],
   "source": [
    "a = 6\n",
    "b = 1558\n",
    "if a >= b:\n",
    "    print(a)\n",
    "else:\n",
    "    print(b)"
   ]
  },
  {
   "cell_type": "markdown",
   "metadata": {},
   "source": [
    "#Trabajando con elif"
   ]
  },
  {
   "cell_type": "code",
   "execution_count": 5,
   "metadata": {},
   "outputs": [
    {
     "name": "stdout",
     "output_type": "stream",
     "text": [
      "a es igual que b\n"
     ]
    }
   ],
   "source": [
    "a = 5\n",
    "b = 5\n",
    "if a!=b: #true\n",
    "    print(\"No es igual a b\")\n",
    "elif a == b: \n",
    "    print(\"a es igual que b\")"
   ]
  },
  {
   "cell_type": "markdown",
   "metadata": {},
   "source": [
    "#Combinar declaraciones If, elif y else"
   ]
  },
  {
   "cell_type": "code",
   "execution_count": 9,
   "metadata": {},
   "outputs": [
    {
     "name": "stdout",
     "output_type": "stream",
     "text": [
      "j es mayor que o\n"
     ]
    }
   ],
   "source": [
    "j = 63663\n",
    "o = 3652\n",
    "if j < o:\n",
    "    print(\"j es menor que o\")\n",
    "elif j > o:\n",
    "    print (\"j es mayor que o\")\n",
    "else:\n",
    "    print(\"j es igual que o\")"
   ]
  },
  {
   "cell_type": "markdown",
   "metadata": {},
   "source": [
    "#Trabajar con logica condicional anidada"
   ]
  },
  {
   "cell_type": "code",
   "execution_count": 12,
   "metadata": {},
   "outputs": [
    {
     "name": "stdout",
     "output_type": "stream",
     "text": [
      "a es mayor que b y b es mayor que c\n"
     ]
    }
   ],
   "source": [
    "a = 8666666\n",
    "b = 25536\n",
    "c = 2710\n",
    "if a > b: #intrucciones a ejecutar\n",
    "    if b > c: #instrucciones a ejecutar\n",
    "        print (\"a es mayor que b y b es mayor que c\")\n",
    "    else: #intrucciones a ejecutar\n",
    "        print (\"a es mayor que b y menor que c\")\n",
    "elif a == b: #intrucciones a ejecutar\n",
    "    print (\"a es igual que b\")\n",
    "else: #instrucciones a ejecutar \n",
    "    print (\"a es menor que b\")"
   ]
  },
  {
   "cell_type": "markdown",
   "metadata": {},
   "source": [
    "#Operadores and y or"
   ]
  },
  {
   "cell_type": "code",
   "execution_count": 16,
   "metadata": {},
   "outputs": [
    {
     "name": "stdout",
     "output_type": "stream",
     "text": [
      "1.0\n"
     ]
    }
   ],
   "source": [
    "Rachel = 22\n",
    "Otaybee = 22\n",
    "if  Rachel == 22 or Otaybee == 22: #subexpresion1 or subexpresion2\n",
    "    print(Rachel / Otaybee)"
   ]
  },
  {
   "cell_type": "markdown",
   "metadata": {},
   "source": [
    "#operador or"
   ]
  },
  {
   "cell_type": "code",
   "execution_count": 17,
   "metadata": {},
   "outputs": [
    {
     "name": "stdout",
     "output_type": "stream",
     "text": [
      "57\n"
     ]
    }
   ],
   "source": [
    "a = 23\n",
    "b = 34\n",
    "if a == 34 or b == 34:\n",
    "    print(a + b)"
   ]
  },
  {
   "cell_type": "markdown",
   "metadata": {},
   "source": [
    "#operador and"
   ]
  },
  {
   "cell_type": "code",
   "execution_count": 18,
   "metadata": {},
   "outputs": [],
   "source": [
    "a = 23\n",
    "b = 34\n",
    "if a == 34 and b == 34:\n",
    "    print (a + b)"
   ]
  },
  {
   "cell_type": "markdown",
   "metadata": {},
   "source": [
    "#EJERCICIO - DECLARACIONES"
   ]
  },
  {
   "cell_type": "code",
   "execution_count": 4,
   "metadata": {},
   "outputs": [
    {
     "name": "stdout",
     "output_type": "stream",
     "text": [
      "Fuera de peligro\n"
     ]
    }
   ],
   "source": [
    "Velocidad_asteriode= int(input(\"Ingresa la velocidad\"))#convertir la cadena de caracteres a entero\n",
    "Cercania_sol= int(input(\"Ingresa la cercania del sol\"))\n",
    "if Velocidad_asteriode >= Cercania_sol:\n",
    "    print(\"Alerta asteroide cerca\")\n",
    "else: \n",
    "    print(\"Fuera de peligro\")"
   ]
  },
  {
   "cell_type": "markdown",
   "metadata": {},
   "source": [
    "#Solucion dada"
   ]
  },
  {
   "cell_type": "code",
   "execution_count": null,
   "metadata": {},
   "outputs": [],
   "source": [
    "asteroide = 49\n",
    "if asteroide > 25:\n",
    "    print('¡Alerta! ¡Un asteroide se acerca a velocidades peligrosas!')\n",
    "else:\n",
    "    print('¡Sigue con tu día!')"
   ]
  },
  {
   "cell_type": "code",
   "execution_count": 15,
   "metadata": {},
   "outputs": [
    {
     "name": "stdout",
     "output_type": "stream",
     "text": [
      "¡Hay uno que se dirige a la tierra ahora, a una velocidad de 19km/s \n"
     ]
    }
   ],
   "source": [
    "asteroide= int(input(\"ingresa la velocidad del asteroide\"))\n",
    "if asteroide > 20:\n",
    "    print(\"¡Hay uno que se dirige a la tierra ahora, a una velocidada de 19km/s\")\n",
    "elif asteroide == 20:\n",
    "    print(\"¡Hay uno que se dirige a la tierra ahora, a una velocidad de 19km/s \")\n",
    "else: \n",
    "    print(\"Fuera de peligro\")\n"
   ]
  },
  {
   "cell_type": "markdown",
   "metadata": {},
   "source": [
    "#Solucion dada"
   ]
  },
  {
   "cell_type": "code",
   "execution_count": null,
   "metadata": {},
   "outputs": [],
   "source": [
    "asteroide = 19\n",
    "if asteroide > 20:\n",
    "    print('Look up! ¡Hay una luz mágica en el cielo!')\n",
    "elif asteroide == 20:\n",
    "    print('Look up! ¡Hay una luz mágica en el cielo!')\n",
    "else:\n",
    "    print('¡Nada que ver aquí!')"
   ]
  },
  {
   "cell_type": "markdown",
   "metadata": {},
   "source": [
    "#USO DE OPERADORES AND Y OR"
   ]
  },
  {
   "cell_type": "code",
   "execution_count": 27,
   "metadata": {},
   "outputs": [
    {
     "name": "stdout",
     "output_type": "stream",
     "text": [
      "Producira un rayo de luz\n"
     ]
    }
   ],
   "source": [
    "astro= int(input(\"ingresa la velocidad del astro\"))\n",
    "tamaño= int(input(\"ingresa la velocidad del astro\"))\n",
    "if astro > 25 and tamaño < 1000:\n",
    "    print(\"Golpeara la tierra y causara daño\")\n",
    "elif astro > 25:\n",
    "    print(\"Advertencia!\")\n",
    "else: \n",
    "    print(\"Producira un rayo de luz\")"
   ]
  },
  {
   "cell_type": "markdown",
   "metadata": {},
   "source": [
    "#Solucion dada"
   ]
  },
  {
   "cell_type": "code",
   "execution_count": null,
   "metadata": {},
   "outputs": [],
   "source": [
    "velocidad_asteroide = 25\n",
    "tamano_asteroide = 40\n",
    "if velocidad_asteroide > 25 and tamano_asteroide > 25:\n",
    "    print('¡Alerta, Un asteroide muy peligroso viene hacia la Tierra!')\n",
    "elif velocidad_asteroide >= 20:\n",
    "    print('Look up! ¡Hay una luz mágica en el cielo!')\n",
    "elif tamano_asteroide < 25:\n",
    "    print('Nada que ver aquí :)')\n",
    "else:\n",
    "    print('Nada que ver aquí :)')"
   ]
  }
 ],
 "metadata": {
  "interpreter": {
   "hash": "07f362c8a91bfc2c8689319fbafa1b02714ae38db4321f6ebabfbaa41ba453b3"
  },
  "kernelspec": {
   "display_name": "Python 3.10.2 64-bit",
   "language": "python",
   "name": "python3"
  },
  "language_info": {
   "codemirror_mode": {
    "name": "ipython",
    "version": 3
   },
   "file_extension": ".py",
   "mimetype": "text/x-python",
   "name": "python",
   "nbconvert_exporter": "python",
   "pygments_lexer": "ipython3",
   "version": "3.10.2"
  },
  "orig_nbformat": 4
 },
 "nbformat": 4,
 "nbformat_minor": 2
}
