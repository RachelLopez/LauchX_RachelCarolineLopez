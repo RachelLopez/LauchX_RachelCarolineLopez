{
 "cells": [
  {
   "cell_type": "markdown",
   "metadata": {},
   "source": [
    "# Introducción a los diccionarios"
   ]
  },
  {
   "cell_type": "code",
   "execution_count": null,
   "metadata": {},
   "outputs": [],
   "source": [
    "#las variables de python pueden almacenar varios tipos de datos\n",
    "name = 'Earth'\n",
    "moons = 1"
   ]
  },
  {
   "cell_type": "code",
   "execution_count": 6,
   "metadata": {},
   "outputs": [
    {
     "name": "stdout",
     "output_type": "stream",
     "text": [
      "Earth 1\n",
      "Jupiter 79\n"
     ]
    }
   ],
   "source": [
    "# datos relacionados, se duplican las variables con prefijos diferentes\n",
    "earth_name = 'Earth'\n",
    "earth_moons = 1\n",
    "\n",
    "jupiter_name = 'Jupiter'\n",
    "jupiter_moons = 79\n",
    "print (earth_name, earth_moons)\n",
    "print (jupiter_name, jupiter_moons)"
   ]
  },
  {
   "cell_type": "markdown",
   "metadata": {},
   "source": [
    "# Creacion de un diccionario"
   ]
  },
  {
   "cell_type": "code",
   "execution_count": 57,
   "metadata": {},
   "outputs": [
    {
     "name": "stdout",
     "output_type": "stream",
     "text": [
      "{'name': 'Earth', 'moons': 1}\n"
     ]
    }
   ],
   "source": [
    "#  Puedes crear un diccionario vacío y agregar valores más adelante, o bien rellenarlo en el momento de la creación\n",
    "planet = { \n",
    "    'name': 'Earth', #cada clave o valor esta separado por dos puntos y el nobre de cada clave\n",
    "    'moons': 1\n",
    "}\n",
    "print (planet)"
   ]
  },
  {
   "cell_type": "markdown",
   "metadata": {},
   "source": [
    "# Lectura de los valores de un diccionario "
   ]
  },
  {
   "cell_type": "code",
   "execution_count": 54,
   "metadata": {},
   "outputs": [
    {
     "name": "stdout",
     "output_type": "stream",
     "text": [
      "Mars\n"
     ]
    }
   ],
   "source": [
    "# get se usa para acceder a un valor mediante su clave \n",
    "print(planet.get('name')) \n",
    "# Muestra Earth"
   ]
  },
  {
   "cell_type": "code",
   "execution_count": 55,
   "metadata": {},
   "outputs": [
    {
     "name": "stdout",
     "output_type": "stream",
     "text": [
      "Mars\n"
     ]
    }
   ],
   "source": [
    "# planet['name'] es idéntico a usar planet.get('name')\n",
    "print(planet['name'])\n",
    "\n",
    "# Muestra Earth"
   ]
  },
  {
   "cell_type": "code",
   "execution_count": 58,
   "metadata": {},
   "outputs": [
    {
     "ename": "KeyError",
     "evalue": "'wibble'",
     "output_type": "error",
     "traceback": [
      "\u001b[1;31m---------------------------------------------------------------------------\u001b[0m",
      "\u001b[1;31mKeyError\u001b[0m                                  Traceback (most recent call last)",
      "\u001b[1;32mc:\\Users\\PROPIETARIO\\OneDrive\\Documentos\\LaunchX\\Primera fase\\creacion_diccionarios.ipynb Cell 9'\u001b[0m in \u001b[0;36m<module>\u001b[1;34m\u001b[0m\n\u001b[0;32m      <a href='vscode-notebook-cell:/c%3A/Users/PROPIETARIO/OneDrive/Documentos/LaunchX/Primera%20fase/creacion_diccionarios.ipynb#ch0000030?line=0'>1</a>\u001b[0m \u001b[39m# el comportamiento get y los [] suele ser el mismo para recuperar elementos\u001b[39;00m\n\u001b[0;32m      <a href='vscode-notebook-cell:/c%3A/Users/PROPIETARIO/OneDrive/Documentos/LaunchX/Primera%20fase/creacion_diccionarios.ipynb#ch0000030?line=1'>2</a>\u001b[0m \u001b[39m# si una clave no esta disponible devuelve none y los [] genera un error\u001b[39;00m\n\u001b[0;32m      <a href='vscode-notebook-cell:/c%3A/Users/PROPIETARIO/OneDrive/Documentos/LaunchX/Primera%20fase/creacion_diccionarios.ipynb#ch0000030?line=2'>3</a>\u001b[0m wibble \u001b[39m=\u001b[39m planet\u001b[39m.\u001b[39mget(\u001b[39m'\u001b[39m\u001b[39mwibble\u001b[39m\u001b[39m'\u001b[39m) \u001b[39m# Regresa None\u001b[39;00m\n\u001b[1;32m----> <a href='vscode-notebook-cell:/c%3A/Users/PROPIETARIO/OneDrive/Documentos/LaunchX/Primera%20fase/creacion_diccionarios.ipynb#ch0000030?line=3'>4</a>\u001b[0m wibble \u001b[39m=\u001b[39m planet[\u001b[39m'\u001b[39;49m\u001b[39mwibble\u001b[39;49m\u001b[39m'\u001b[39;49m]\n",
      "\u001b[1;31mKeyError\u001b[0m: 'wibble'"
     ]
    }
   ],
   "source": [
    "# el comportamiento get y los [] suele ser el mismo para recuperar elementos\n",
    "# si una clave no esta disponible devuelve none y los [] genera un error\n",
    "wibble = planet.get('wibble') # Regresa None\n",
    "wibble = planet['wibble'] # Arroja un KeyError"
   ]
  },
  {
   "cell_type": "markdown",
   "metadata": {},
   "source": [
    "# Modifica de valores de un diccionario "
   ]
  },
  {
   "cell_type": "markdown",
   "metadata": {},
   "source": [
    "La principal ventaja de usar update es la capacidad de modificar varios valores en una operación. "
   ]
  },
  {
   "cell_type": "code",
   "execution_count": 59,
   "metadata": {},
   "outputs": [],
   "source": [
    "# update: modifica valores dentro de un objeto de diccionario\n",
    "# si quieres cambiar name para el diccionario planet, usa lo siguiente\n",
    "planet.update({'name': 'Makemake'})\n",
    "\n",
    "# name ahora es Makemake"
   ]
  },
  {
   "cell_type": "code",
   "execution_count": 60,
   "metadata": {},
   "outputs": [],
   "source": [
    "# o el uso del acceso directo de corchetes para leer valores \n",
    "planet['name'] = 'Makemake'\n",
    "\n",
    "# name is now set to Makemake"
   ]
  },
  {
   "cell_type": "code",
   "execution_count": 61,
   "metadata": {},
   "outputs": [],
   "source": [
    "# Ten en cuenta que al usar update realizas una sola llamada a la función, mientras que el uso de corchetes implica dos llamadas.\n",
    "# Usando update\n",
    "planet.update({\n",
    "    'name': 'Jupiter',\n",
    "    'moons': 79\n",
    "})\n",
    "\n",
    "# Usando corchetes\n",
    "planet['name'] = 'Jupiter'\n",
    "planet['moons'] = 79"
   ]
  },
  {
   "cell_type": "markdown",
   "metadata": {},
   "source": [
    "# Adicion y eliminacion de claves "
   ]
  },
  {
   "cell_type": "code",
   "execution_count": 62,
   "metadata": {},
   "outputs": [],
   "source": [
    "planet['orbital period'] = 4333\n",
    "\n",
    "# el diccionario planet ahora contiene: {\n",
    "#   name: 'jupiter'\n",
    "#   moons: 79\n",
    "#   orbital period: 4333\n",
    "# }"
   ]
  },
  {
   "cell_type": "code",
   "execution_count": 63,
   "metadata": {},
   "outputs": [
    {
     "data": {
      "text/plain": [
       "4333"
      ]
     },
     "execution_count": 63,
     "metadata": {},
     "output_type": "execute_result"
    }
   ],
   "source": [
    "# Para quitar una clave, usa pop. pop devuelve el valor y quita la clave del diccionario\n",
    "planet.pop('orbital period')\n",
    "\n",
    "# el diccionario planet ahora contiene: {\n",
    "#   name: 'jupiter'\n",
    "#   moons: 79\n",
    "# }"
   ]
  },
  {
   "cell_type": "markdown",
   "metadata": {},
   "source": [
    "# Tipos de data complejos"
   ]
  },
  {
   "cell_type": "markdown",
   "metadata": {},
   "source": [
    "Los diccionarios pueden almacenar cualquier tipo de valor, incluidos otros diccionarios. Esto te permite modelar datos complejos según sea necesario"
   ]
  },
  {
   "cell_type": "code",
   "execution_count": 66,
   "metadata": {},
   "outputs": [
    {
     "name": "stdout",
     "output_type": "stream",
     "text": [
      "{'name': 'Jupiter', 'moons': 79, 'diameter (km)': {'polar': 133709, 'equatorial': 142984}}\n"
     ]
    }
   ],
   "source": [
    "# Añadimos los datos\n",
    "planet['diameter (km)'] = {\n",
    "    'polar': 133709,\n",
    "    'equatorial': 142984\n",
    "}\n",
    "print (planet)\n",
    "\n",
    "# el diccionario planet ahora contiene: {\n",
    "#   name: 'Jupiter'\n",
    "#   moons: 79\n",
    "#   diameter (km): {\n",
    "#      polar: 133709\n",
    "#      equatorial: 142984\n",
    "#   }\n",
    "# }"
   ]
  },
  {
   "cell_type": "code",
   "execution_count": null,
   "metadata": {},
   "outputs": [],
   "source": [
    "#Para recuperar valores en un diccionario anidado, debe puedes utilizar corchetes [ ] o llamar a get.\n",
    "print(f'{planet['name']} polar diameter: {planet['diameter (km)']['polar']}')\n",
    "\n",
    "# Salida: Jupiter polar diameter: 133709"
   ]
  },
  {
   "cell_type": "markdown",
   "metadata": {},
   "source": [
    "# Programación dinámica con diccionarios"
   ]
  },
  {
   "cell_type": "code",
   "execution_count": 69,
   "metadata": {},
   "outputs": [
    {
     "name": "stdout",
     "output_type": "stream",
     "text": [
      "{'october': 3.5, 'november': 4.2, 'december': 2.1}\n"
     ]
    }
   ],
   "source": [
    "# El método keys() devuelve un objeto de lista que contiene todas las claves. Puedes usar este método para iterar por todos los elementos del diccionario.\n",
    "rainfall = {\n",
    "    'october': 3.5,\n",
    "    'november': 4.2,\n",
    "    'december': 2.1\n",
    "}\n",
    "print (rainfall)"
   ]
  },
  {
   "cell_type": "markdown",
   "metadata": {},
   "source": [
    "Imagina que quiere mostrar la lista de todas las precipitaciones. Puedes escribir el nombre de cada mes, pero sería tedioso, en este caso hacemos uso del método keys()."
   ]
  },
  {
   "cell_type": "code",
   "execution_count": 70,
   "metadata": {},
   "outputs": [
    {
     "name": "stdout",
     "output_type": "stream",
     "text": [
      "october: 3.5cm\n",
      "november: 4.2cm\n",
      "december: 2.1cm\n"
     ]
    }
   ],
   "source": [
    "for key in rainfall.keys():\n",
    "    print(f'{key}: {rainfall[key]}cm')\n",
    "\n",
    "# Salida:\n",
    "# october: 3.5cm\n",
    "# november: 4.2cm\n",
    "# december: 2.1cm"
   ]
  },
  {
   "cell_type": "markdown",
   "metadata": {},
   "source": [
    "# Determinando la existencia de una clave en un diccionario"
   ]
  },
  {
   "cell_type": "markdown",
   "metadata": {},
   "source": [
    "Si quieres agregar un valor en lugar de sobrescribirlo, puedes comprobar si la clave existe mediante in"
   ]
  },
  {
   "cell_type": "code",
   "execution_count": 72,
   "metadata": {},
   "outputs": [
    {
     "name": "stdout",
     "output_type": "stream",
     "text": [
      "{'october': 3.5, 'november': 4.2, 'december': 4.1}\n"
     ]
    }
   ],
   "source": [
    "# El valor de december: 2.1cm\n",
    "\n",
    "# Si, 'december' existe en rainfall\n",
    "if 'december' in rainfall:\n",
    "    # rainfall [en la posición december] es igual a\n",
    "    # rainfall [en la posición december] + 1 (2.1+1)\n",
    "    rainfall['december'] = rainfall['december'] + 1\n",
    "\n",
    "# Si no:\n",
    "else:\n",
    "\n",
    "    # rainfall [en la posición december] es igual a 1\n",
    "    rainfall['december'] = 1\n",
    "print (rainfall)\n",
    "# Como december si existe, el valor será 3.1"
   ]
  },
  {
   "cell_type": "markdown",
   "metadata": {},
   "source": [
    "# Recuper todos los valores de un diccionario"
   ]
  },
  {
   "cell_type": "markdown",
   "metadata": {},
   "source": [
    "Esto puede resultar útil cuando se usa la clave con fines de etiquetado, como en el ejemplo anterior, en el que las claves son el nombre del mes. "
   ]
  },
  {
   "cell_type": "code",
   "execution_count": 73,
   "metadata": {},
   "outputs": [
    {
     "name": "stdout",
     "output_type": "stream",
     "text": [
      "There was 11.8cm in the last quarter\n"
     ]
    }
   ],
   "source": [
    "# Puedes usar values() para determinar el importe total de las precipitaciones:\n",
    "#Total de precipitaciones 0\n",
    "total_rainfall = 0\n",
    "\n",
    "# Para cada valor en los valores de rainfall\n",
    "for value in rainfall.values():\n",
    "    \n",
    "    # El total de las precipitaciones será igual a ese mismo + el valor que se está iterando\n",
    "\n",
    "    total_rainfall = total_rainfall + value\n",
    "\n",
    "# Muestra 'Hay un total de precipitaciones (el valor total) en centímetros en el último cuarto (haciendo referencia al cuarto del año)\n",
    "\n",
    "print(f'There was {total_rainfall}cm in the last quarter')\n",
    "\n",
    "# Salida:\n",
    "# There was 10.8cm in the last quarter"
   ]
  },
  {
   "cell_type": "markdown",
   "metadata": {},
   "source": [
    "# EJERCICIO 1. CREACION DE DICCIONARIOS"
   ]
  },
  {
   "cell_type": "code",
   "execution_count": 9,
   "metadata": {},
   "outputs": [
    {
     "name": "stdout",
     "output_type": "stream",
     "text": [
      "Marte tiene 2 lunas\n"
     ]
    }
   ],
   "source": [
    "planeta = { \n",
    "    \"nombre\": \"Marte\",\n",
    "    \"lunas\": 2\n",
    "}\n",
    "print (planeta[\"nombre\"], \"tiene\" , planeta [\"lunas\"],\"lunas\")"
   ]
  },
  {
   "cell_type": "code",
   "execution_count": 12,
   "metadata": {},
   "outputs": [
    {
     "name": "stdout",
     "output_type": "stream",
     "text": [
      "Marte\n",
      "Marte\n"
     ]
    }
   ],
   "source": [
    "planeta = { \n",
    "    \"nombre\": \"Marte\",\n",
    "    \"lunas\": 2\n",
    "}\n",
    "print (planeta.get ('nombre'))\n",
    "print (planeta['nombre']) #sustitucion de get con []"
   ]
  },
  {
   "cell_type": "code",
   "execution_count": 21,
   "metadata": {},
   "outputs": [
    {
     "name": "stdout",
     "output_type": "stream",
     "text": [
      "Marte tiene 2 con una circunferencia polar de 6752 y una ecuatorial de 6792\n"
     ]
    }
   ],
   "source": [
    "planeta = { \n",
    "    \"nombre\":\"Marte\",\n",
    "    \"lunas\": 2\n",
    "}\n",
    "planeta.update ({'polar':6752, 'ecuatorial':6792})\n",
    "print (planeta['nombre'], \"tiene\", planeta [\"lunas\"],\"con una circunferencia polar de\", planeta[\"polar\"], \"y una ecuatorial de\", planeta [\"ecuatorial\"])"
   ]
  },
  {
   "cell_type": "code",
   "execution_count": 25,
   "metadata": {},
   "outputs": [
    {
     "name": "stdout",
     "output_type": "stream",
     "text": [
      "Marte tiene una circunferencia polar de 6752\n"
     ]
    }
   ],
   "source": [
    "planeta = { \n",
    "    \"nombre\":\"Marte\",\n",
    "    \"lunas\": 2\n",
    "}\n",
    "planeta.update ({'polar':6752, 'ecuatorial':6792})\n",
    "print (planeta['nombre'], \"tiene una circunferencia polar de\", planeta[\"polar\"])"
   ]
  },
  {
   "cell_type": "code",
   "execution_count": 26,
   "metadata": {},
   "outputs": [
    {
     "name": "stdout",
     "output_type": "stream",
     "text": [
      "Marte 6752\n"
     ]
    }
   ],
   "source": [
    "planeta = { \n",
    "    \"nombre\":\"Marte\",\n",
    "    \"lunas\": 2\n",
    "}\n",
    "planeta.update ({'polar':6752, 'ecuatorial':6792})\n",
    "print (planeta['nombre'],planeta[\"polar\"])"
   ]
  },
  {
   "cell_type": "markdown",
   "metadata": {},
   "source": [
    "# solucion dada"
   ]
  },
  {
   "cell_type": "code",
   "execution_count": 2,
   "metadata": {},
   "outputs": [
    {
     "name": "stdout",
     "output_type": "stream",
     "text": [
      "Mars has 2 moons\n",
      "Mars has a polar circumference of 6752\n"
     ]
    }
   ],
   "source": [
    "# Crea un diccionario llamado planet con los datos propuestos\n",
    "\n",
    "planet = {\n",
    "    'name': 'Mars',\n",
    "    'moons': 2\n",
    "}\n",
    "# Muestra el nombre del planeta y el número de lunas que tiene.\n",
    "\n",
    "print(f'{planet[\"name\"]} has {planet[\"moons\"]} moons')\n",
    "# Agrega la clave circunferencia con los datos proporcionados previamente\n",
    "\n",
    "planet['circumference (km)'] = {\n",
    "    'polar': 6752,\n",
    "    'equatorial': 6792\n",
    "}\n",
    "# Imprime el nombre del planeta con su circunferencia polar.\n",
    "\n",
    "print(f'{planet[\"name\"]} has a polar circumference of {planet[\"circumference (km)\"][\"polar\"]}')"
   ]
  },
  {
   "cell_type": "markdown",
   "metadata": {},
   "source": [
    "# EJERCICIO 2. PROGRAMACION DINAMICA CON DICCIONARIOS"
   ]
  },
  {
   "cell_type": "code",
   "execution_count": 32,
   "metadata": {},
   "outputs": [
    {
     "name": "stdout",
     "output_type": "stream",
     "text": [
      "mercurio: 0\n",
      "venus: 0\n",
      "tierra: 1\n",
      "marte: 2\n",
      "jupiter: 79\n",
      "saturno: 82\n",
      "urano: 27\n",
      "neptuno: 14\n",
      "pluton: 5\n",
      "haumea: 2\n",
      "makemake: 1\n",
      "eris: 1\n"
     ]
    }
   ],
   "source": [
    "planeta_lunas = {\n",
    "    'mercurio': 0,\n",
    "    'venus': 0,\n",
    "    'tierra': 1,\n",
    "    'marte': 2,\n",
    "    'jupiter': 79,\n",
    "    'saturno': 82,\n",
    "    'urano': 27,\n",
    "    'neptuno': 14,\n",
    "    'pluton': 5,\n",
    "    'haumea': 2,\n",
    "    'makemake': 1,\n",
    "    'eris': 1\n",
    "}\n",
    "for key in planeta_lunas.keys():\n",
    "    print(f'{key}: {planeta_lunas[key]}')"
   ]
  },
  {
   "cell_type": "code",
   "execution_count": 35,
   "metadata": {},
   "outputs": [
    {
     "name": "stdout",
     "output_type": "stream",
     "text": [
      "mercurio: 0\n",
      "venus: 0\n",
      "tierra: 1\n",
      "marte: 2\n",
      "jupiter: 79\n",
      "saturno: 82\n",
      "urano: 27\n",
      "neptuno: 14\n",
      "pluton: 5\n",
      "haumea: 2\n",
      "makemake: 1\n",
      "eris: 1\n",
      "existen 12 planetas\n"
     ]
    }
   ],
   "source": [
    "planeta_lunas = {\n",
    "    'mercurio': 0,\n",
    "    'venus': 0,\n",
    "    'tierra': 1,\n",
    "    'marte': 2,\n",
    "    'jupiter': 79,\n",
    "    'saturno': 82,\n",
    "    'urano': 27,\n",
    "    'neptuno': 14,\n",
    "    'pluton': 5,\n",
    "    'haumea': 2,\n",
    "    'makemake': 1,\n",
    "    'eris': 1\n",
    "}\n",
    "for key in planeta_lunas.keys():\n",
    "    print(f'{key}: {planeta_lunas[key]}')\n",
    "print (\"existen\", planeta_lunas.__len__(),\"planetas\") #imprime el numero de planetas"
   ]
  },
  {
   "cell_type": "code",
   "execution_count": 36,
   "metadata": {},
   "outputs": [
    {
     "name": "stdout",
     "output_type": "stream",
     "text": [
      "{'nombre': ['mercurio', 'venus', 'tierra', 'marte', 'jupiter', 'saturno', 'urano', 'neptuno', 'pluton', 'haumea', 'makemake', 'eris']}\n"
     ]
    }
   ],
   "source": [
    "lista_planetas = [\"mercurio\", \"venus\",\"tierra\",\"marte\",\"jupiter\",\"saturno\",\"urano\",\"neptuno\",\"pluton\",\"haumea\",\"makemake\",\"eris\"]\n",
    "planeta_lunas = {\"nombre\": lista_planetas}\n",
    "print (planeta_lunas)"
   ]
  },
  {
   "cell_type": "code",
   "execution_count": 80,
   "metadata": {},
   "outputs": [
    {
     "name": "stdout",
     "output_type": "stream",
     "text": [
      "Se bienvenido, aqui tendras que ingresar la cantidad de lunas en cada planeta\n",
      "los planetas son: \n",
      "\n",
      "planeta1:mercurio\n",
      "planeta2:venus\n",
      "planeta3:tierra\n",
      "planeta4:marte\n",
      "planeta5:jupiter\n",
      "planeta6:saturno\n",
      "planeta7:urano\n",
      "planeta8:neptuno\n",
      "planeta9:pluton\n",
      "planeta10:haumea\n",
      "planeta11:makemake\n",
      "planeta12:eris\n",
      "el numero de lunas es:  0\n",
      "el numero de lunas es:  1\n",
      "el numero de lunas es:  2\n",
      "el numero de lunas es:  79\n",
      "el numero de lunas es:  82\n",
      "el numero de lunas es:  27\n",
      "el numero de lunas es:  14\n",
      "el numero de lunas es:  5\n",
      "el numero de lunas es:  2\n",
      "el numero de lunas es:  1\n",
      "el numero de lunas es:  1\n",
      "el numero de lunas es:  done\n",
      "la lista de las lunas es: ['0', '1', '2', '79', '82', '27', '14', '5', '2', '1', '1', 'done']\n",
      "existen  12 planetas\n"
     ]
    }
   ],
   "source": [
    "#prueba y error\n",
    "planeta_lunas = {\n",
    "\n",
    "\"planeta1\":'mercurio',\n",
    "\"planeta2\":'venus',\n",
    "\"planeta3\":'tierra',\n",
    "\"planeta4\":'marte',\n",
    "\"planeta5\":'jupiter',\n",
    "\"planeta6\":'saturno',\n",
    "\"planeta7\":'urano',\n",
    "\"planeta8\":'neptuno',\n",
    "\"planeta9\":'pluton',\n",
    "\"planeta10\":'haumea',\n",
    "\"planeta11\":'makemake',\n",
    "\"planeta12\":'eris',\n",
    "}\n",
    "print (\"Se bienvenido, aqui tendras que ingresar la cantidad de lunas en cada planeta\")\n",
    "print (\"los planetas son: \\n\")\n",
    "for key in planeta_lunas.keys():\n",
    "    print(f'{key}:{planeta_lunas[key]}')\n",
    "lunas = input (\"ingresa el numero de lunas para cada planeta, hazlo en el orden que se te mostro anteriormente\")\n",
    "lista_lunas =[]\n",
    "while lunas.lower() != \"done\":\n",
    "    lunas = str (input(\"ingresa el numero de lunas para cada planeta, hazlo en el orden que se te mostro anteriormente\"))\n",
    "    if lunas: \n",
    "        lista_lunas.append(lunas)\n",
    "        print (\"el numero de lunas es: \", lunas)\n",
    "print(\"la lista de las lunas es:\", lista_lunas)\n",
    "luna= planeta_lunas.values()\n",
    "print (\"existen \",planeta_lunas.__len__(),\"planetas\")\n"
   ]
  },
  {
   "cell_type": "markdown",
   "metadata": {},
   "source": [
    "# solucion dada"
   ]
  },
  {
   "cell_type": "code",
   "execution_count": 81,
   "metadata": {},
   "outputs": [
    {
     "ename": "NameError",
     "evalue": "name 'planet_moons' is not defined",
     "output_type": "error",
     "traceback": [
      "\u001b[1;31m---------------------------------------------------------------------------\u001b[0m",
      "\u001b[1;31mNameError\u001b[0m                                 Traceback (most recent call last)",
      "\u001b[1;32mc:\\Users\\PROPIETARIO\\OneDrive\\Documentos\\LaunchX\\Primera fase\\creacion_diccionarios.ipynb Cell 46'\u001b[0m in \u001b[0;36m<module>\u001b[1;34m\u001b[0m\n\u001b[0;32m      <a href='vscode-notebook-cell:/c%3A/Users/PROPIETARIO/OneDrive/Documentos/LaunchX/Primera%20fase/creacion_diccionarios.ipynb#ch0000051?line=0'>1</a>\u001b[0m \u001b[39m# Añade el código para determinar el número de lunas.\u001b[39;00m\n\u001b[0;32m      <a href='vscode-notebook-cell:/c%3A/Users/PROPIETARIO/OneDrive/Documentos/LaunchX/Primera%20fase/creacion_diccionarios.ipynb#ch0000051?line=1'>2</a>\u001b[0m \n\u001b[0;32m      <a href='vscode-notebook-cell:/c%3A/Users/PROPIETARIO/OneDrive/Documentos/LaunchX/Primera%20fase/creacion_diccionarios.ipynb#ch0000051?line=2'>3</a>\u001b[0m \u001b[39m# Obtenemos la lista de las lunas\u001b[39;00m\n\u001b[0;32m      <a href='vscode-notebook-cell:/c%3A/Users/PROPIETARIO/OneDrive/Documentos/LaunchX/Primera%20fase/creacion_diccionarios.ipynb#ch0000051?line=3'>4</a>\u001b[0m \u001b[39m# Almacenamos los resultados en una variable moons\u001b[39;00m\n\u001b[1;32m----> <a href='vscode-notebook-cell:/c%3A/Users/PROPIETARIO/OneDrive/Documentos/LaunchX/Primera%20fase/creacion_diccionarios.ipynb#ch0000051?line=4'>5</a>\u001b[0m moons \u001b[39m=\u001b[39m planet_moons\u001b[39m.\u001b[39mvalues()\n\u001b[0;32m      <a href='vscode-notebook-cell:/c%3A/Users/PROPIETARIO/OneDrive/Documentos/LaunchX/Primera%20fase/creacion_diccionarios.ipynb#ch0000051?line=6'>7</a>\u001b[0m \u001b[39m# Obtenemos el total de planetas\u001b[39;00m\n\u001b[0;32m      <a href='vscode-notebook-cell:/c%3A/Users/PROPIETARIO/OneDrive/Documentos/LaunchX/Primera%20fase/creacion_diccionarios.ipynb#ch0000051?line=7'>8</a>\u001b[0m \u001b[39m# Almacenamos los resultados en una variable llamada years\u001b[39;00m\n\u001b[0;32m      <a href='vscode-notebook-cell:/c%3A/Users/PROPIETARIO/OneDrive/Documentos/LaunchX/Primera%20fase/creacion_diccionarios.ipynb#ch0000051?line=8'>9</a>\u001b[0m planets \u001b[39m=\u001b[39m \u001b[39mlen\u001b[39m(planet_moons\u001b[39m.\u001b[39mkeys())\n",
      "\u001b[1;31mNameError\u001b[0m: name 'planet_moons' is not defined"
     ]
    }
   ],
   "source": [
    "# Añade el código para determinar el número de lunas.\n",
    "\n",
    "# Obtenemos la lista de las lunas\n",
    "# Almacenamos los resultados en una variable moons\n",
    "moons = planet_moons.values()\n",
    "\n",
    "# Obtenemos el total de planetas\n",
    "# Almacenamos los resultados en una variable llamada years\n",
    "planets = len(planet_moons.keys())\n",
    "# Calcula el total_moons agregando todas las lunas\n",
    "# Almacena su valor en una variable llamada total_moons\n",
    "\n",
    "total_moons = 0\n",
    "for moon in moons:\n",
    "    total_moons = total_moons + moon\n",
    "\n",
    "# Calcula el promedio dividiendo el total_moons por el número de planetas\n",
    "average = total_moons / planets\n",
    "\n",
    "# Muestra el promedio\n",
    "print(average)"
   ]
  }
 ],
 "metadata": {
  "interpreter": {
   "hash": "07f362c8a91bfc2c8689319fbafa1b02714ae38db4321f6ebabfbaa41ba453b3"
  },
  "kernelspec": {
   "display_name": "Python 3.10.2 64-bit",
   "language": "python",
   "name": "python3"
  },
  "language_info": {
   "codemirror_mode": {
    "name": "ipython",
    "version": 3
   },
   "file_extension": ".py",
   "mimetype": "text/x-python",
   "name": "python",
   "nbconvert_exporter": "python",
   "pygments_lexer": "ipython3",
   "version": "3.10.2"
  },
  "orig_nbformat": 4
 },
 "nbformat": 4,
 "nbformat_minor": 2
}
