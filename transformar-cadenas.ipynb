{
 "cells": [
  {
   "cell_type": "markdown",
   "metadata": {},
   "source": [
    "#Inmutabilidad de las cadenas"
   ]
  },
  {
   "cell_type": "code",
   "execution_count": 16,
   "metadata": {},
   "outputs": [
    {
     "data": {
      "text/plain": [
       "'the moon has no atmosphereNo sound can be heard on the moon'"
      ]
     },
     "execution_count": 16,
     "metadata": {},
     "output_type": "execute_result"
    }
   ],
   "source": [
    "fact = 'the moon has no atmosphere'\n",
    "fact + 'No sound can be heard on the moon'"
   ]
  },
  {
   "cell_type": "code",
   "execution_count": 17,
   "metadata": {},
   "outputs": [
    {
     "data": {
      "text/plain": [
       "'the moon has no atmosphereNo sound can be heard on the moon'"
      ]
     },
     "execution_count": 17,
     "metadata": {},
     "output_type": "execute_result"
    }
   ],
   "source": [
    "two_facts = fact + 'No sound can be heard on the moon'\n",
    "two_facts"
   ]
  },
  {
   "cell_type": "markdown",
   "metadata": {},
   "source": [
    "#Uso de comillas"
   ]
  },
  {
   "cell_type": "code",
   "execution_count": 18,
   "metadata": {},
   "outputs": [
    {
     "data": {
      "text/plain": [
       "'We only see about 60% of the moon\\'s surface,this is know as the \"near side'"
      ]
     },
     "execution_count": 18,
     "metadata": {},
     "output_type": "execute_result"
    }
   ],
   "source": [
    "moon_radius = \"The moon has a radius of 1,080 miles\"\n",
    "'The\"near side\" is the part of the moon that faces the earth' #si una subcadena utiliza comillas dobles, encierra toda la cadena entre coillas simples\n",
    "\"We only see about 60% of the moon's surface\" #comillas dobles cuando hay apostrofo o comillas simples en la cadena\n",
    "\"\"\"We only see about 60% of the moon's surface,this is know as the \"near side\"\"\" #triples comillas cuando hay combinacion de comillas simples y dobles"
   ]
  },
  {
   "cell_type": "markdown",
   "metadata": {},
   "source": [
    "#Texto multilinea "
   ]
  },
  {
   "cell_type": "markdown",
   "metadata": {},
   "source": [
    "1. Utiliza un caracter de nueva linea ().\\n\n",
    "2. Utiliza comillas triples (\"\"\")\n",
    "3. Los caracteres de nueva linea separan el texto en varias lineas al imprimir la salida:"
   ]
  },
  {
   "cell_type": "code",
   "execution_count": 19,
   "metadata": {},
   "outputs": [
    {
     "ename": "SyntaxError",
     "evalue": "invalid syntax (3769807879.py, line 3)",
     "output_type": "error",
     "traceback": [
      "\u001b[1;36m  Input \u001b[1;32mIn [19]\u001b[1;36m\u001b[0m\n\u001b[1;33m    Facts about the Moon:\u001b[0m\n\u001b[1;37m          ^\u001b[0m\n\u001b[1;31mSyntaxError\u001b[0m\u001b[1;31m:\u001b[0m invalid syntax\n"
     ]
    }
   ],
   "source": [
    "multiline = \"Facts about the Moon:\\n There is no atmosphere.\\n There is no sound.\"\n",
    "print(multiline)\n",
    "Facts about the Moon:\n",
    " There is no atmosphere.\n",
    " There is no sound."
   ]
  },
  {
   "cell_type": "code",
   "execution_count": null,
   "metadata": {},
   "outputs": [],
   "source": [
    "#comillas triples\n",
    "multiline = \"\"\"Facts about the Moon: \n",
    "...  There is no atmosphere.\n",
    "...  There is no sound.\"\"\"\n",
    "print(multiline)\n",
    "Facts about the Moon:\n",
    "There is no atmosphere.\n",
    "There is no sound"
   ]
  },
  {
   "cell_type": "markdown",
   "metadata": {},
   "source": [
    "#Metodos string en python "
   ]
  },
  {
   "cell_type": "code",
   "execution_count": null,
   "metadata": {},
   "outputs": [
    {
     "data": {
      "text/plain": [
       "'Temperatures And Facts About The Moon'"
      ]
     },
     "execution_count": 8,
     "metadata": {},
     "output_type": "execute_result"
    }
   ],
   "source": [
    "str #los metodos existen como variables de cadenas o parte de la cadena\n",
    "# .title() se utiliza con una cadena directamente\n",
    "'temperatures and facts about the moon'.title() #salida\n",
    "heading = 'temperatures and facts about the moon' #salida\n",
    "heading.title()"
   ]
  },
  {
   "cell_type": "markdown",
   "metadata": {},
   "source": [
    "#Dividir una cadena "
   ]
  },
  {
   "cell_type": "code",
   "execution_count": null,
   "metadata": {},
   "outputs": [
    {
     "data": {
      "text/plain": [
       "['Daylight:', '260F', '...Nighttime:', '-280', 'F']"
      ]
     },
     "execution_count": 5,
     "metadata": {},
     "output_type": "execute_result"
    }
   ],
   "source": [
    "temperatures = '''Daylight: 260F\n",
    "...Nighttime: -280 F'''\n",
    "temperatures .split()\n",
    "#salida ['Daylight:', '260', 'F', 'Nighttime:', '-280', 'F']"
   ]
  },
  {
   "cell_type": "code",
   "execution_count": null,
   "metadata": {},
   "outputs": [
    {
     "data": {
      "text/plain": [
       "['Daylight: 260F', '...Nighttime: -280 F']"
      ]
     },
     "execution_count": 6,
     "metadata": {},
     "output_type": "execute_result"
    }
   ],
   "source": [
    "#.split() separa la cadena en cada espacio\n",
    "temperatures = '''Daylight: 260F\n",
    "...Nighttime: -280 F'''\n",
    "temperatures .split('\\n')\n",
    "#Salida: ['Daylight: 260 F', 'Nighttime: -280 F']"
   ]
  },
  {
   "cell_type": "markdown",
   "metadata": {},
   "source": [
    "#Buscar un cadena"
   ]
  },
  {
   "cell_type": "code",
   "execution_count": null,
   "metadata": {},
   "outputs": [
    {
     "data": {
      "text/plain": [
       "False"
      ]
     },
     "execution_count": 3,
     "metadata": {},
     "output_type": "execute_result"
    }
   ],
   "source": [
    "'Moon' in 'This text will describe facts and challenges with space travel' #forma de descubrir si existe una palabra, caracter o un grupo de caracteres\n",
    "#salida:False"
   ]
  },
  {
   "cell_type": "code",
   "execution_count": null,
   "metadata": {},
   "outputs": [
    {
     "data": {
      "text/plain": [
       "True"
      ]
     },
     "execution_count": 2,
     "metadata": {},
     "output_type": "execute_result"
    }
   ],
   "source": [
    "'Moon' in 'This text will describe facts about the Moon'\n",
    "#salida: True"
   ]
  },
  {
   "cell_type": "code",
   "execution_count": null,
   "metadata": {},
   "outputs": [
    {
     "data": {
      "text/plain": [
       "-1"
      ]
     },
     "execution_count": 1,
     "metadata": {},
     "output_type": "execute_result"
    }
   ],
   "source": [
    "#.find() enfoque para encontrar la posicion de una palabra en una cadena\n",
    "temperatures = \"\"\"Saturn has a daytime temperature of -170 degrees Celsius,\n",
    "... while Mars has -28 Celsius.\"\"\"\n",
    "temperatures.find('Moon')\n",
    "#salida -1"
   ]
  },
  {
   "cell_type": "code",
   "execution_count": null,
   "metadata": {},
   "outputs": [
    {
     "data": {
      "text/plain": [
       "68"
      ]
     },
     "execution_count": 10,
     "metadata": {},
     "output_type": "execute_result"
    }
   ],
   "source": [
    "#.find() devuelve -1 cuando no se encuentra la palabra o devuelve el indice\n",
    "temperatures = \"\"\"Saturn has a daytime temperature of -170 degrees Celsius,\n",
    "... while Mars has -28 Celsius.\"\"\"\n",
    "temperatures.find('Mars')\n",
    "#salida 68 posicion donde aparece en la cadena mars"
   ]
  },
  {
   "cell_type": "code",
   "execution_count": null,
   "metadata": {},
   "outputs": [
    {
     "data": {
      "text/plain": [
       "3"
      ]
     },
     "execution_count": 12,
     "metadata": {},
     "output_type": "execute_result"
    }
   ],
   "source": [
    "#.count() devuelve el numero total de apariciones de una palabra en una cadena\n",
    "temperatures = \"\"\"Saturn has a daytime temperature of -170 degrees Celsius,\n",
    "... while Mars has -28 Celsius, Mars Mars.\"\"\"\n",
    "temperatures.count('Mars')\n",
    "#salida 1, probe con 3 "
   ]
  },
  {
   "cell_type": "code",
   "execution_count": null,
   "metadata": {},
   "outputs": [
    {
     "data": {
      "text/plain": [
       "0"
      ]
     },
     "execution_count": 13,
     "metadata": {},
     "output_type": "execute_result"
    }
   ],
   "source": [
    "temperatures = \"\"\"Saturn has a daytime temperature of -170 degrees Celsius,\n",
    "... while Mars has -28 Celsius.\"\"\"\n",
    "temperatures.count('Moon')\n",
    "#Salida 0"
   ]
  },
  {
   "cell_type": "code",
   "execution_count": null,
   "metadata": {},
   "outputs": [
    {
     "data": {
      "text/plain": [
       "'the moon and the earth'"
      ]
     },
     "execution_count": 15,
     "metadata": {},
     "output_type": "execute_result"
    }
   ],
   "source": [
    "#.lower() realiza una comparacion sin distincion de mayusculas y minusculas\n",
    "temperatures = \"\"\"Saturn has a daytime temperature of -170 degrees Celsius,\n",
    "... while Mars has -28 Celsius.\"\"\"\n",
    "\"The MoON And The Earth\".lower()\n",
    "#Salida: 'the moon and the earth' probe con  MoON"
   ]
  },
  {
   "cell_type": "code",
   "execution_count": null,
   "metadata": {},
   "outputs": [
    {
     "data": {
      "text/plain": [
       "'THE MOON AND THE EARTH'"
      ]
     },
     "execution_count": 16,
     "metadata": {},
     "output_type": "execute_result"
    }
   ],
   "source": [
    "#Al igual que el método .lower(), las cadenas tienen un método que hace lo contrario .upper(), convirtiendo cada carácter en mayúsculas\n",
    "temperatures = \"\"\"Saturn has a daytime temperature of -170 degrees Celsius,\n",
    "... while Mars has -28 Celsius.\"\"\"\n",
    "'The Moon And The Earth'.upper()"
   ]
  },
  {
   "cell_type": "markdown",
   "metadata": {},
   "source": [
    "#Comprobar el contenido "
   ]
  },
  {
   "cell_type": "code",
   "execution_count": null,
   "metadata": {},
   "outputs": [
    {
     "data": {
      "text/plain": [
       "['Mars Average Temperature', ' -60 C']"
      ]
     },
     "execution_count": 18,
     "metadata": {},
     "output_type": "execute_result"
    }
   ],
   "source": [
    "temperatures = 'Mars Average Temperature: -60 C'\n",
    "#Extraer la temperatura promedio en marte \n",
    "parts = temperatures.split(':')\n",
    "parts"
   ]
  },
  {
   "cell_type": "code",
   "execution_count": null,
   "metadata": {},
   "outputs": [
    {
     "data": {
      "text/plain": [
       "' -60 C'"
      ]
     },
     "execution_count": 19,
     "metadata": {},
     "output_type": "execute_result"
    }
   ],
   "source": [
    "temperatures = 'Mars Average Temperature: -60 C'\n",
    "parts[-1]"
   ]
  },
  {
   "cell_type": "code",
   "execution_count": null,
   "metadata": {},
   "outputs": [
    {
     "name": "stdout",
     "output_type": "stream",
     "text": [
      "30\n"
     ]
    }
   ],
   "source": [
    "#Los métodos anteriores confían ciegamente en que todo lo que está después de los dos puntos (:) es una temperatura. La cadena se divide en cuanto encuentra :, lo que produce una lista de dos elementos. Usando [-1] en la lista devuelve el último elemento\n",
    ">>> mars_temperature = 'The highest temperature on Mars is about 30 C'\n",
    "for item in mars_temperature.split():\n",
    "    if item.isnumeric():\n",
    "        print(item)"
   ]
  },
  {
   "cell_type": "code",
   "execution_count": null,
   "metadata": {},
   "outputs": [
    {
     "data": {
      "text/plain": [
       "True"
      ]
     },
     "execution_count": 21,
     "metadata": {},
     "output_type": "execute_result"
    }
   ],
   "source": [
    "#Al igual que el método .isnumeric(), puedes comprobar si hay cadenas que se parezcan a decimales .isdecimal()\n",
    ">>> mars_temperature = 'The highest temperature on Mars is about 30 C'\n",
    "'-60'.startswith('-')"
   ]
  },
  {
   "cell_type": "code",
   "execution_count": null,
   "metadata": {},
   "outputs": [
    {
     "name": "stdout",
     "output_type": "stream",
     "text": [
      "This temperature is in Celsius\n"
     ]
    }
   ],
   "source": [
    "#.endswith() ayuda a verificar el último carácter de una cadena\n",
    ">>> mars_temperature = 'The highest temperature on Mars is about 30 C'\n",
    "if \"30 C\".endswith(\"C\"):\n",
    "    print(\"This temperature is in Celsius\")\n"
   ]
  },
  {
   "cell_type": "markdown",
   "metadata": {},
   "source": [
    "#Transformar texto"
   ]
  },
  {
   "cell_type": "code",
   "execution_count": null,
   "metadata": {},
   "outputs": [
    {
     "data": {
      "text/plain": [
       "'Saturn has a daytime temperature of -170 degrees C, while Mars has -28 C.'"
      ]
     },
     "execution_count": 23,
     "metadata": {},
     "output_type": "execute_result"
    }
   ],
   "source": [
    "# pueden usar C para Celsius y F para Fahrenheit. Puedes utilizar el método .replace() para buscar y reemplazar apariciones de un carácter o grupo de caracteres\n",
    "'Saturn has a daytime temperature of -170 degrees Celsius, while Mars has -28 Celsius.'.replace('Celsius', 'C')"
   ]
  },
  {
   "cell_type": "code",
   "execution_count": null,
   "metadata": {},
   "outputs": [
    {
     "data": {
      "text/plain": [
       "False"
      ]
     },
     "execution_count": 24,
     "metadata": {},
     "output_type": "execute_result"
    }
   ],
   "source": [
    "#.lower() es una buena manera de normalizar el texto para hacer una búsqueda sin distinción de mayúsculas y minúsculas.\n",
    "'Saturn has a daytime temperature of -170 degrees Celsius, while Mars has -28 Celsius.'.replace('Celsius', 'C')\n",
    "text = 'Temperatures on the Moon can vary wildly.'\n",
    "'temperatures' in text"
   ]
  },
  {
   "cell_type": "code",
   "execution_count": null,
   "metadata": {},
   "outputs": [
    {
     "data": {
      "text/plain": [
       "True"
      ]
     },
     "execution_count": 25,
     "metadata": {},
     "output_type": "execute_result"
    }
   ],
   "source": [
    "'Saturn has a daytime temperature of -170 degrees Celsius, while Mars has -28 Celsius.'.replace('Celsius', 'C')\n",
    "'temperatures' in text.lower()"
   ]
  },
  {
   "cell_type": "code",
   "execution_count": null,
   "metadata": {},
   "outputs": [
    {
     "data": {
      "text/plain": [
       "'The Moon is drifting away from the Earth.\\nOn average, the Moon is moving about 4cm every year'"
      ]
     },
     "execution_count": 26,
     "metadata": {},
     "output_type": "execute_result"
    }
   ],
   "source": [
    "#.split() puede separar caracteres, el método .join() puede volver a unirlos\n",
    "'Saturn has a daytime temperature of -170 degrees Celsius, while Mars has -28 Celsius.'.replace('Celsius', 'C')\n",
    "moon_facts = ['The Moon is drifting away from the Earth.', 'On average, the Moon is moving about 4cm every year']\n",
    "'\\n'.join(moon_facts)"
   ]
  },
  {
   "cell_type": "markdown",
   "metadata": {},
   "source": [
    "#Formato de cadenas en Python"
   ]
  },
  {
   "cell_type": "code",
   "execution_count": null,
   "metadata": {},
   "outputs": [],
   "source": [
    "# La forma más sencilla de presentar información de texto con Python es usar la función print()\n",
    "# obtener información en variables y otras estructuras de datos en cadenas que puedan usar print()"
   ]
  },
  {
   "cell_type": "markdown",
   "metadata": {},
   "source": [
    "#Formato con signo de porcentaje %"
   ]
  },
  {
   "cell_type": "code",
   "execution_count": null,
   "metadata": {},
   "outputs": [
    {
     "name": "stdout",
     "output_type": "stream",
     "text": [
      "On the Moon, you would weigh about 1/6 of your weight on Earth\n"
     ]
    }
   ],
   "source": [
    "#El marcador de posición es %s, y la variable se pasa al texto después del carácter % fuera de la cadena\n",
    "mass_percentage = '1/6'\n",
    "print('On the Moon, you would weigh about %s of your weight on Earth' % mass_percentage)"
   ]
  },
  {
   "cell_type": "code",
   "execution_count": null,
   "metadata": {},
   "outputs": [
    {
     "name": "stdout",
     "output_type": "stream",
     "text": [
      "On the Moon, you would weigh about 1/6 of your weight on Earth\n",
      "Both sides of the Moon get the same amount of sunlight,\n",
      "    but only one side is seen from Earth because\n",
      "    the Moon rotates around its own axis when it orbits Earth.\n"
     ]
    }
   ],
   "source": [
    "mass_percentage = '1/6'\n",
    "print('On the Moon, you would weigh about %s of your weight on Earth' % mass_percentage)\n",
    "print(\"\"\"Both sides of the %s get the same amount of sunlight,\n",
    "    but only one side is seen from %s because\n",
    "    the %s rotates around its own axis when it orbits %s.\"\"\" % ('Moon', 'Earth', 'Moon', 'Earth'))"
   ]
  },
  {
   "cell_type": "code",
   "execution_count": null,
   "metadata": {},
   "outputs": [
    {
     "name": "stdout",
     "output_type": "stream",
     "text": [
      "On the Moon, you would weigh about 1/6 of your weight on Earth\n"
     ]
    }
   ],
   "source": [
    "#El método .format()utiliza llaves ({}) como marcadores de posición dentro de una cadena y utiliza la asignación de variables para reemplazar el texto\n",
    "mass_percentage = '1/6'\n",
    "print('On the Moon, you would weigh about {} of your weight on Earth'.format(mass_percentage))"
   ]
  },
  {
   "cell_type": "code",
   "execution_count": null,
   "metadata": {},
   "outputs": [
    {
     "name": "stdout",
     "output_type": "stream",
     "text": [
      "You are lighter on the Moon, because on the Moon \n",
      "you would weigh about 1/6 of your weight on Earth\n"
     ]
    }
   ],
   "source": [
    "print(\"\"\"You are lighter on the {0}, because on the {0} \n",
    "... you would weigh about {1} of your weight on Earth\"\"\".format(\"Moon\", mass_percentage))"
   ]
  },
  {
   "cell_type": "code",
   "execution_count": null,
   "metadata": {},
   "outputs": [
    {
     "name": "stdout",
     "output_type": "stream",
     "text": [
      "You are lighter on the Moon, because on the Moon \n",
      "... you would weigh about 1/6 of your weight on Earth\n"
     ]
    }
   ],
   "source": [
    "# usar en el primer argumento {0} (índice de cero) en este caso Moon{0} sería con el método .format(). Para la repetición simple {0} funciona bien, pero reduce la legibilidad. Para mejorar la legibilidad, utilizamos argumentos de palabras clave en .format()\n",
    "print(\"\"\"You are lighter on the {moon}, because on the {moon} \n",
    "... you would weigh about {mass} of your weight on Earth\"\"\".format(moon=\"Moon\", mass=mass_percentage))"
   ]
  },
  {
   "cell_type": "code",
   "execution_count": null,
   "metadata": {},
   "outputs": [
    {
     "name": "stdout",
     "output_type": "stream",
     "text": [
      "On the Moon, you would weigh about 1/6 of your weight on Earth\n"
     ]
    }
   ],
   "source": [
    "#acerca de las cadenas con f\n",
    "print(f'On the Moon, you would weigh about {mass_percentage} of your weight on Earth')"
   ]
  },
  {
   "cell_type": "code",
   "execution_count": null,
   "metadata": {},
   "outputs": [
    {
     "name": "stdout",
     "output_type": "stream",
     "text": [
      "On the Moon, you would weigh about 1/6 of your weight on Earth\n"
     ]
    },
    {
     "data": {
      "text/plain": [
       "16.7"
      ]
     },
     "execution_count": 36,
     "metadata": {},
     "output_type": "execute_result"
    }
   ],
   "source": [
    "#Las variables van dentro de llaves y la cadena debe usar el prefijo f\n",
    "print(f'On the Moon, you would weigh about {mass_percentage} of your weight on Earth')\n",
    "round(100/6, 1)"
   ]
  },
  {
   "cell_type": "code",
   "execution_count": null,
   "metadata": {},
   "outputs": [
    {
     "name": "stdout",
     "output_type": "stream",
     "text": [
      "On the Moon, you would weigh about 16.7% of your weight on Earth\n"
     ]
    }
   ],
   "source": [
    "#las cadenas f, no es necesario asignar un valor a una variable de antemano\n",
    "print(f'On the Moon, you would weigh about {round(100/6, 1)}% of your weight on Earth')"
   ]
  },
  {
   "cell_type": "code",
   "execution_count": null,
   "metadata": {},
   "outputs": [
    {
     "data": {
      "text/plain": [
       "'Interesting Facts About The Moon'"
      ]
     },
     "execution_count": 38,
     "metadata": {},
     "output_type": "execute_result"
    }
   ],
   "source": [
    "#El uso de una expresión no requiere una llamada a una función\n",
    "subject = 'interesting facts about the moon'\n",
    "f'{subject.title()}'"
   ]
  },
  {
   "cell_type": "markdown",
   "metadata": {},
   "source": [
    "# EJERCICIO 1: TRANSFORMAR CADENAS"
   ]
  },
  {
   "cell_type": "code",
   "execution_count": null,
   "metadata": {},
   "outputs": [
    {
     "data": {
      "text/plain": [
       "['Interesting facts about the Moon',\n",
       " \" The Moon is Earth's only satellite\",\n",
       " ' There are several interesting facts about the Moon and how it affects life here on Earth',\n",
       " ' \\nOn average, the Moon moves 4cm away from the Earth every year',\n",
       " ' This yearly drift is not significant enough to cause immediate effects on Earth',\n",
       " ' The highest daylight temperature of the Moon is 127 C',\n",
       " '']"
      ]
     },
     "execution_count": 2,
     "metadata": {},
     "output_type": "execute_result"
    }
   ],
   "source": [
    "text = \"\"\"Interesting facts about the Moon. The Moon is Earth's only satellite. There are several interesting facts about the Moon and how it affects life here on Earth. \n",
    "On average, the Moon moves 4cm away from the Earth every year. This yearly drift is not significant enough to cause immediate effects on Earth. The highest daylight temperature of the Moon is 127 C.\"\"\"\n",
    "partes_texto = text .split('.') \n",
    "partes_texto"
   ]
  },
  {
   "cell_type": "code",
   "execution_count": null,
   "metadata": {},
   "outputs": [
    {
     "name": "stdout",
     "output_type": "stream",
     "text": [
      " The Moon is Earth's only satellite\n",
      " The Moon is Earth's only satellite\n",
      " The Moon is Earth's only satellite\n",
      " The Moon is Earth's only satellite\n",
      " The Moon is Earth's only satellite\n",
      " The Moon is Earth's only satellite\n",
      " There are several interesting facts about the Moon and how it affects life here on Earth\n",
      " \n",
      "On average, the Moon moves 4cm away from the Earth every year\n",
      " This yearly drift is not significant enough to cause immediate effects on Earth\n",
      " The highest daylight temperature of the Moon is 127 C\n"
     ]
    }
   ],
   "source": [
    "palabras_clave = [\"average\", \"temperature\", \"distance\"]\n",
    "for sentence in partes_texto : #recorrer una sentencia en determinadas ocasiones\n",
    "    for palabras_clave in palabras_clave : \n",
    "        if palabras_clave in sentence :\n",
    "            print (sentence)\n",
    "            exit () #romper ciclo for "
   ]
  },
  {
   "cell_type": "code",
   "execution_count": null,
   "metadata": {},
   "outputs": [
    {
     "ename": "NameError",
     "evalue": "name 'partes_texto' is not defined",
     "output_type": "error",
     "traceback": [
      "\u001b[1;31m---------------------------------------------------------------------------\u001b[0m",
      "\u001b[1;31mNameError\u001b[0m                                 Traceback (most recent call last)",
      "\u001b[1;32mc:\\Users\\PROPIETARIO\\OneDrive\\Documentos\\LaunchX\\transformar-cadenas.ipynb Cell 50'\u001b[0m in \u001b[0;36m<module>\u001b[1;34m\u001b[0m\n\u001b[0;32m      <a href='vscode-notebook-cell:/c%3A/Users/PROPIETARIO/OneDrive/Documentos/LaunchX/transformar-cadenas.ipynb#ch0000049?line=0'>1</a>\u001b[0m palabras_clave \u001b[39m=\u001b[39m [\u001b[39m\"\u001b[39m\u001b[39maverage\u001b[39m\u001b[39m\"\u001b[39m, \u001b[39m\"\u001b[39m\u001b[39mtemperature\u001b[39m\u001b[39m\"\u001b[39m, \u001b[39m\"\u001b[39m\u001b[39mdistance\u001b[39m\u001b[39m\"\u001b[39m]\n\u001b[1;32m----> <a href='vscode-notebook-cell:/c%3A/Users/PROPIETARIO/OneDrive/Documentos/LaunchX/transformar-cadenas.ipynb#ch0000049?line=1'>2</a>\u001b[0m \u001b[39mfor\u001b[39;00m sentence \u001b[39min\u001b[39;00m partes_texto:\n\u001b[0;32m      <a href='vscode-notebook-cell:/c%3A/Users/PROPIETARIO/OneDrive/Documentos/LaunchX/transformar-cadenas.ipynb#ch0000049?line=2'>3</a>\u001b[0m     \u001b[39mfor\u001b[39;00m palabras_clave \u001b[39min\u001b[39;00m palabras_clave: \n\u001b[0;32m      <a href='vscode-notebook-cell:/c%3A/Users/PROPIETARIO/OneDrive/Documentos/LaunchX/transformar-cadenas.ipynb#ch0000049?line=3'>4</a>\u001b[0m         \u001b[39mif\u001b[39;00m palabras_clave \u001b[39min\u001b[39;00m sentence : \n",
      "\u001b[1;31mNameError\u001b[0m: name 'partes_texto' is not defined"
     ]
    }
   ],
   "source": [
    "#programa prueba y error\n",
    "palabras_clave = [\"average\", \"temperature\", \"distance\"]\n",
    "for sentence in partes_texto:\n",
    "    for palabras_clave in palabras_clave: \n",
    "        if palabras_clave in sentence : \n",
    "            print (sentence.replace(\"C\",\"Celsius\"))\n",
    "            exit ()"
   ]
  },
  {
   "cell_type": "code",
   "execution_count": null,
   "metadata": {},
   "outputs": [
    {
     "name": "stdout",
     "output_type": "stream",
     "text": [
      " The Moon is Earth's only satellite\n",
      " The Moon is Earth's only satellite\n",
      " The Moon is Earth's only satellite\n",
      " The Moon is Earth's only satellite\n",
      " The Moon is Earth's only satellite\n",
      " The Moon is Earth's only satellite\n",
      " The Moon is Earth's only satellite\n",
      " The Moon is Earth's only satellite\n",
      " The Moon is Earth's only satellite\n",
      " The Moon is Earth's only satellite\n",
      " The Moon is Earth's only satellite\n",
      " The Moon is Earth's only satellite\n",
      " There are several interesting facts about the Moon and how it affects life here on Earth\n",
      " There are several interesting facts about the Moon and how it affects life here on Earth\n",
      " \n",
      "On average, the Moon moves 4cm away from the Earth every year\n",
      " \n",
      "On average, the Moon moves 4cm away from the Earth every year\n",
      " This yearly drift is not significant enough to cause immediate effects on Earth\n",
      " This yearly drift is not significant enough to cause immediate effects on Earth\n",
      " The highest daylight temperature of the Moon is 127 C\n",
      " The highest daylight temperature of the Moon is 127 Celsius\n"
     ]
    }
   ],
   "source": [
    "text = \"\"\"Interesting facts about the Moon. The Moon is Earth's only satellite. There are several interesting facts about the Moon and how it affects life here on Earth. \n",
    "On average, the Moon moves 4cm away from the Earth every year. This yearly drift is not significant enough to cause immediate effects on Earth. The highest daylight temperature of the Moon is 127 C.\"\"\"\n",
    "partes_texto = text .split('.') \n",
    "partes_texto\n",
    "palabras_clave = [\"average\", \"temperature\", \"distance\"]\n",
    "for sentence in partes_texto : #recorrer una sentencia en determinadas ocasiones\n",
    "    for palabras_clave in palabras_clave : \n",
    "        if palabras_clave in sentence :\n",
    "            print (sentence)\n",
    "            if palabras_clave in sentence : \n",
    "                print (sentence.replace(\"C\",\"Celsius\"))\n",
    "                exit () #romper ciclo for \n",
    "            "
   ]
  },
  {
   "cell_type": "markdown",
   "metadata": {},
   "source": [
    "# Solución dada"
   ]
  },
  {
   "cell_type": "code",
   "execution_count": null,
   "metadata": {},
   "outputs": [
    {
     "ename": "NameError",
     "evalue": "name 'text' is not defined",
     "output_type": "error",
     "traceback": [
      "\u001b[1;31m---------------------------------------------------------------------------\u001b[0m",
      "\u001b[1;31mNameError\u001b[0m                                 Traceback (most recent call last)",
      "\u001b[1;32mc:\\Users\\PROPIETARIO\\OneDrive\\Documentos\\LaunchX\\transformar-cadenas.ipynb Cell 53'\u001b[0m in \u001b[0;36m<module>\u001b[1;34m\u001b[0m\n\u001b[0;32m      <a href='vscode-notebook-cell:/c%3A/Users/PROPIETARIO/OneDrive/Documentos/LaunchX/transformar-cadenas.ipynb#ch0000051?line=0'>1</a>\u001b[0m \u001b[39m# Divide el texto\u001b[39;00m\n\u001b[1;32m----> <a href='vscode-notebook-cell:/c%3A/Users/PROPIETARIO/OneDrive/Documentos/LaunchX/transformar-cadenas.ipynb#ch0000051?line=1'>2</a>\u001b[0m text_parts \u001b[39m=\u001b[39m text\u001b[39m.\u001b[39msplit(\u001b[39m'\u001b[39m\u001b[39m. \u001b[39m\u001b[39m'\u001b[39m)\n\u001b[0;32m      <a href='vscode-notebook-cell:/c%3A/Users/PROPIETARIO/OneDrive/Documentos/LaunchX/transformar-cadenas.ipynb#ch0000051?line=2'>3</a>\u001b[0m text_parts\n\u001b[0;32m      <a href='vscode-notebook-cell:/c%3A/Users/PROPIETARIO/OneDrive/Documentos/LaunchX/transformar-cadenas.ipynb#ch0000051?line=3'>4</a>\u001b[0m \u001b[39m# Palabras clave\u001b[39;00m\n",
      "\u001b[1;31mNameError\u001b[0m: name 'text' is not defined"
     ]
    }
   ],
   "source": [
    "# Divide el texto\n",
    "text_parts = text.split('. ')\n",
    "text_parts\n",
    "# Palabras clave\n",
    "key_words = [\"average\", \"temperature\", \"distance\"]\n",
    "# Ciclo for para recorrer la cadena\n",
    "for sentence in text_parts:\n",
    "    for key_word in key_words:\n",
    "        if key_word in sentence:\n",
    "            print(sentence)\n",
    "            break\n",
    "# Ciclo para cambiar C a Celsius\n",
    "for sentence in text_parts:\n",
    "    for key_word in key_words:\n",
    "        if key_word in sentence:\n",
    "            print(sentence.replace(' C', ' Celsius'))\n",
    "            break"
   ]
  },
  {
   "cell_type": "markdown",
   "metadata": {},
   "source": []
  },
  {
   "cell_type": "markdown",
   "metadata": {},
   "source": [
    "# EJERCICIO 2. FORMATEANDO CADENAS"
   ]
  },
  {
   "cell_type": "code",
   "execution_count": null,
   "metadata": {},
   "outputs": [
    {
     "name": "stdout",
     "output_type": "stream",
     "text": [
      "(' Datos de gravedad sobre ', ' Tierra')\n"
     ]
    }
   ],
   "source": [
    "nombre_luna = 'Luna'\n",
    "gravedad = 0.00162\n",
    "planeta = ' Tierra'\n",
    "title = (' Datos de gravedad sobre ', planeta)\n",
    "print (title)"
   ]
  },
  {
   "cell_type": "code",
   "execution_count": null,
   "metadata": {},
   "outputs": [],
   "source": [
    "#f para hacer concatenacion \n",
    "conversion = f\"\"\" {'-' * 80} \n",
    "nombre del planeta: {planeta}\n",
    "nombre de la luna es:{nombre_luna}:{gravedad * 1000} metros sobre segundo \"\"\""
   ]
  },
  {
   "cell_type": "code",
   "execution_count": null,
   "metadata": {},
   "outputs": [
    {
     "ename": "AttributeError",
     "evalue": "'tuple' object has no attribute 'title'",
     "output_type": "error",
     "traceback": [
      "\u001b[1;31m---------------------------------------------------------------------------\u001b[0m",
      "\u001b[1;31mAttributeError\u001b[0m                            Traceback (most recent call last)",
      "\u001b[1;32mc:\\Users\\PROPIETARIO\\OneDrive\\Documentos\\LaunchX\\transformar-cadenas.ipynb Cell 58'\u001b[0m in \u001b[0;36m<module>\u001b[1;34m\u001b[0m\n\u001b[1;32m----> <a href='vscode-notebook-cell:/c%3A/Users/PROPIETARIO/OneDrive/Documentos/LaunchX/transformar-cadenas.ipynb#ch0000066?line=0'>1</a>\u001b[0m union_titulo \u001b[39m=\u001b[39m \u001b[39mf\u001b[39m\u001b[39m\"\"\"\u001b[39m\u001b[39m{\u001b[39;00mtitle\u001b[39m.\u001b[39mtitle()\u001b[39m}\u001b[39;00m\n\u001b[0;32m      <a href='vscode-notebook-cell:/c%3A/Users/PROPIETARIO/OneDrive/Documentos/LaunchX/transformar-cadenas.ipynb#ch0000066?line=1'>2</a>\u001b[0m \u001b[39m{\u001b[39;00mconversion\u001b[39m}\u001b[39;00m\n\u001b[0;32m      <a href='vscode-notebook-cell:/c%3A/Users/PROPIETARIO/OneDrive/Documentos/LaunchX/transformar-cadenas.ipynb#ch0000066?line=2'>3</a>\u001b[0m \u001b[39m\"\"\"\u001b[39m\n\u001b[0;32m      <a href='vscode-notebook-cell:/c%3A/Users/PROPIETARIO/OneDrive/Documentos/LaunchX/transformar-cadenas.ipynb#ch0000066?line=3'>4</a>\u001b[0m \u001b[39mprint\u001b[39m (conversion)\n",
      "\u001b[1;31mAttributeError\u001b[0m: 'tuple' object has no attribute 'title'"
     ]
    }
   ],
   "source": [
    "#prueba y error \n",
    "union_titulo = f\"\"\"{title.title()}\n",
    "{conversion}\n",
    "\"\"\"\n",
    "print (conversion)"
   ]
  },
  {
   "cell_type": "code",
   "execution_count": 10,
   "metadata": {},
   "outputs": [
    {
     "name": "stdout",
     "output_type": "stream",
     "text": [
      "los datos de la gravedad son: 0.00162\n",
      " -------------------------------------------------------------------------------- \n",
      "nombre del planeta es: Tierra\n",
      "nombre de la luna es: Luna: 1.6199999999999999 metros sobre segundo \n"
     ]
    }
   ],
   "source": [
    "nombre_luna = 'Luna'\n",
    "gravedad = 0.00162\n",
    "planeta = 'Tierra'\n",
    "title = f'los datos de la gravedad son: {gravedad}'\n",
    "print (title)\n",
    "#f para hacer concatenacion \n",
    "conversion = f\"\"\" {'-' * 80} \n",
    "nombre del planeta es: {planeta}\n",
    "nombre de la luna es: {nombre_luna}: {gravedad * 1000} metros sobre segundo \"\"\"\n",
    "union_titulo = f\"\"\"{title.title()}\n",
    "{conversion}\n",
    "\"\"\"\n",
    "print (conversion)"
   ]
  },
  {
   "cell_type": "code",
   "execution_count": 11,
   "metadata": {},
   "outputs": [
    {
     "name": "stdout",
     "output_type": "stream",
     "text": [
      "los datos de la gravedad son: 62.0\n",
      " -------------------------------------------------------------------------------- \n",
      "nombre del planeta es: Tierra\n",
      "nombre de la luna es: Rachel: 62000.0 metros sobre segundo \n"
     ]
    }
   ],
   "source": [
    "planeta = (input(\"Introduce el nombre del planeta es\"))\n",
    "gravedad = float (input(\"Introduce el valor de la gravedad\"))\n",
    "nombre_luna = (input(\"Introduce el nombre de la luna\"))\n",
    "title = f'los datos de la gravedad son: {gravedad}'\n",
    "print (title)\n",
    "#f para hacer concatenacion \n",
    "conversion = f\"\"\" {'-' * 80} \n",
    "nombre del planeta es: {planeta}\n",
    "nombre de la luna es: {nombre_luna}: {gravedad * 1000} metros sobre segundo \"\"\"\n",
    "union_titulo = f\"\"\"{title.title()}\n",
    "{conversion}\n",
    "\"\"\"\n",
    "print (conversion)"
   ]
  }
 ],
 "metadata": {
  "interpreter": {
   "hash": "07f362c8a91bfc2c8689319fbafa1b02714ae38db4321f6ebabfbaa41ba453b3"
  },
  "kernelspec": {
   "display_name": "Python 3.10.2 64-bit",
   "language": "python",
   "name": "python3"
  },
  "language_info": {
   "codemirror_mode": {
    "name": "ipython",
    "version": 3
   },
   "file_extension": ".py",
   "mimetype": "text/x-python",
   "name": "python",
   "nbconvert_exporter": "python",
   "pygments_lexer": "ipython3",
   "version": "3.10.2"
  },
  "orig_nbformat": 4
 },
 "nbformat": 4,
 "nbformat_minor": 2
}
